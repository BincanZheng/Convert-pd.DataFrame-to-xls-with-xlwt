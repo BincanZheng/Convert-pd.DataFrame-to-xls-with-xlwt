{
 "cells": [
  {
   "cell_type": "markdown",
   "metadata": {
    "ExecuteTime": {
     "end_time": "2020-07-27T09:01:15.716982Z",
     "start_time": "2020-07-27T09:01:15.714078Z"
    }
   },
   "source": [
    "# Imports"
   ]
  },
  {
   "cell_type": "code",
   "execution_count": 1,
   "metadata": {
    "ExecuteTime": {
     "end_time": "2020-07-27T09:53:55.066331Z",
     "start_time": "2020-07-27T09:53:53.781246Z"
    }
   },
   "outputs": [],
   "source": [
    "import pandas as pd\n",
    "import numpy as np\n",
    "import xlwt\n",
    "import xlrd"
   ]
  },
  {
   "cell_type": "markdown",
   "metadata": {},
   "source": [
    "# Data Read"
   ]
  },
  {
   "cell_type": "code",
   "execution_count": 2,
   "metadata": {
    "ExecuteTime": {
     "end_time": "2020-07-27T09:53:55.087287Z",
     "start_time": "2020-07-27T09:53:55.069323Z"
    }
   },
   "outputs": [],
   "source": [
    "monthly_pandas_data = pd.read_csv(r'.\\Sample Data.csv',encoding='gbk',index_col=0,mangle_dupe_cols=2,header=[0,1])"
   ]
  },
  {
   "cell_type": "markdown",
   "metadata": {},
   "source": [
    "# Help Functions"
   ]
  },
  {
   "cell_type": "markdown",
   "metadata": {},
   "source": [
    "## Cell Formater"
   ]
  },
  {
   "cell_type": "code",
   "execution_count": 3,
   "metadata": {
    "ExecuteTime": {
     "end_time": "2020-07-27T09:53:55.102235Z",
     "start_time": "2020-07-27T09:53:55.091331Z"
    }
   },
   "outputs": [],
   "source": [
    "def _get_style(borders_major='tblr',width_major=1,width_minor=1,font_size=10):\n",
    "    '''\n",
    "    borders_major：选择主要边框 默认为4边全选 边框粗细为 width_major \n",
    "    width_major：主要边框的粗细 默认为1\n",
    "    wdith_minor：次要边框的粗细 默认为1\n",
    "    font_size：字体大小 默认为10\n",
    "    '''\n",
    "    style = xlwt.XFStyle()       # Create Style\n",
    "    font = xlwt.Font()           # Create Font\n",
    "    borders = xlwt.Borders()     # Create Borders\n",
    "    alignment = xlwt.Alignment() # Create Alignment\n",
    "    font.name = '宋体'           # 设置字体为 宋体\n",
    "    font.height = font_size*20   # 设置字体大小为 10（10*20）\n",
    "    alignment.horz = xlwt.Alignment.HORZ_CENTER \n",
    "    # 可以选择: HORZ_GENERAL,HORZ_LEFT,HORZ_CENTER,HORZ_RIGHT,HORZ_FILLED,\n",
    "    #          HORZ_JUSTIFIED,HORZ_CENTER_ACROSS_SEL,HORZ_DISTRIBUTED\n",
    "    alignment.vert = xlwt.Alignment.VERT_CENTER \n",
    "    # 可以选择: VERT_TOP,VERT_CENTER,VERT_BOTTOM,VERT_JUSTIFIED,VERT_DISTRIBUTED\n",
    "    alignment.wrap = 1           # 自动换行\n",
    "    # 设置边框宽度\n",
    "    borders.left = width_major if 'l' in borders_major else width_minor\n",
    "    borders.right = width_major if 'r' in borders_major else width_minor\n",
    "    borders.top = width_major if 't' in borders_major else width_minor\n",
    "    borders.bottom = width_major if 'b' in borders_major else width_minor\n",
    "    # 向style输入格式\n",
    "    style.font = font\n",
    "    style.alignment = alignment\n",
    "    style.borders = borders\n",
    "    return style"
   ]
  },
  {
   "cell_type": "code",
   "execution_count": 4,
   "metadata": {
    "ExecuteTime": {
     "end_time": "2020-07-27T09:53:55.118257Z",
     "start_time": "2020-07-27T09:53:55.106225Z"
    }
   },
   "outputs": [],
   "source": [
    "def _get_style_2(l=1,r=1,b=1,t=1,font_size=20):\n",
    "    '''\n",
    "    l：l for left  ,左边框的粗细 默认为1\n",
    "    r：r for right ,右边框的粗细 默认为1\n",
    "    b：b for bottom,下边框的粗细 默认为1\n",
    "    t：t for top   ,上边框的粗细 默认为1\n",
    "    font_size：字体大小 默认为20\n",
    "    '''\n",
    "    style = xlwt.XFStyle()       # Create Style\n",
    "    font = xlwt.Font()           # Create Font\n",
    "    borders = xlwt.Borders()     # Create Borders\n",
    "    alignment = xlwt.Alignment() # Create Alignment\n",
    "    font.name = '宋体'           # 设置字体为 宋体\n",
    "    font.height = font_size*20   # 设置字体大小为 20（20*20）\n",
    "    alignment.horz = xlwt.Alignment.HORZ_CENTER \n",
    "    # 可以选择: HORZ_GENERAL,HORZ_LEFT,HORZ_CENTER,HORZ_RIGHT,HORZ_FILLED,\n",
    "    #          HORZ_JUSTIFIED,HORZ_CENTER_ACROSS_SEL,HORZ_DISTRIBUTED\n",
    "    alignment.vert = xlwt.Alignment.VERT_CENTER \n",
    "    # 可以选择: VERT_TOP,VERT_CENTER,VERT_BOTTOM,VERT_JUSTIFIED,VERT_DISTRIBUTED\n",
    "    # 设置边框宽度\n",
    "    borders.left = l\n",
    "    borders.right = r\n",
    "    borders.top = t\n",
    "    borders.bottom = b\n",
    "    # 向style输入格式\n",
    "    style.font = font\n",
    "    style.alignment = alignment\n",
    "    style.borders = borders\n",
    "    return style"
   ]
  },
  {
   "cell_type": "markdown",
   "metadata": {},
   "source": [
    "## XLWT write valid value"
   ]
  },
  {
   "cell_type": "code",
   "execution_count": 5,
   "metadata": {
    "ExecuteTime": {
     "end_time": "2020-07-27T09:53:55.130193Z",
     "start_time": "2020-07-27T09:53:55.121185Z"
    }
   },
   "outputs": [],
   "source": [
    "def _Int_Print(value):\n",
    "    '''\n",
    "    is number  -> int(value)\n",
    "    is nan     -> ''\n",
    "    not number -> value\n",
    "    '''\n",
    "    try:\n",
    "        if str(value).isnumeric():\n",
    "            return int(value)\n",
    "        elif np.isnan(value):\n",
    "            return ''\n",
    "        else:\n",
    "            return int(value)\n",
    "    except:\n",
    "        return value"
   ]
  },
  {
   "cell_type": "markdown",
   "metadata": {},
   "source": [
    "# Excel Write"
   ]
  },
  {
   "cell_type": "markdown",
   "metadata": {},
   "source": [
    "## Cell Formats Preparation"
   ]
  },
  {
   "cell_type": "code",
   "execution_count": 6,
   "metadata": {
    "ExecuteTime": {
     "end_time": "2020-07-27T09:53:55.143139Z",
     "start_time": "2020-07-27T09:53:55.133151Z"
    }
   },
   "outputs": [],
   "source": [
    "# 表头\n",
    "font_style_lrtb_0   = _get_style('lrtb',0)\n",
    "font_style_lrtb     = _get_style('lrtb',2)\n",
    "font_style_lrt      = _get_style('lrt',2)\n",
    "font_style_lrb      = _get_style('lrb',2)\n",
    "font_style_rtb      = _get_style('rtb',2)\n",
    "font_style_b        = _get_style('b',2)\n",
    "font_style_lb        = _get_style('lb',2)\n",
    "font_style_rb        = _get_style('rb',2)\n",
    "\n",
    "# 表内容\n",
    "font_style_lr       = _get_style('lr',2)\n",
    "# font_style_lrb      = _get_style('lrb',2)\n",
    "font_style_r        = _get_style('r',2)\n",
    "# font_style_rb       = _get_style('rb',2)\n",
    "font_style_normal   = _get_style()\n",
    "# font_style_b        = _get_style('b',2)"
   ]
  },
  {
   "cell_type": "markdown",
   "metadata": {},
   "source": [
    "## Normal Settings"
   ]
  },
  {
   "cell_type": "code",
   "execution_count": 7,
   "metadata": {
    "ExecuteTime": {
     "end_time": "2020-07-27T09:53:55.158100Z",
     "start_time": "2020-07-27T09:53:55.146117Z"
    }
   },
   "outputs": [],
   "source": [
    "normal_data = '空  气  温  度  （0.1℃）'   # 一级 column name\n",
    "avg_data = '平均'                           # 一级&二级 column name\n",
    "max_data = '最高'                           # 一级&二级 column name\n",
    "min_data = '最低'                           # 一级&二级 column name\n",
    "year = str(2019)                            # 使用参数\n",
    "month = '{:02}'.format(2)                   # 使用参数\n",
    "\n",
    "# 展示的数据名为monthly_excel(pandas的DataFrame形式)\n",
    "# 把index放入column（写入表格时使用）\n",
    "monthly_excel_for_write = monthly_pandas_data.reset_index()\n",
    "# 创建xlwt的workbook\n",
    "workbook = xlwt.Workbook(encoding='UTF-8')\n",
    "# 添加sheet（名字为'空气温度（0.1℃）'）\n",
    "worksheet = workbook.add_sheet(normal_data.replace(' ','')) "
   ]
  },
  {
   "cell_type": "markdown",
   "metadata": {},
   "source": [
    "## Input Headers"
   ]
  },
  {
   "cell_type": "code",
   "execution_count": 8,
   "metadata": {
    "ExecuteTime": {
     "end_time": "2020-07-27T09:53:55.222912Z",
     "start_time": "2020-07-27T09:53:55.164069Z"
    }
   },
   "outputs": [],
   "source": [
    "## 日期\n",
    "### 设置初始行为0\n",
    "cur_row = 0\n",
    "### 在第0行写入日期（2019年02月）\n",
    "worksheet.write_merge(cur_row,cur_row,2,4,str(year)+'年'+str(month)+'月',font_style_lrtb_0)\n",
    "\n",
    "## 一级表头\n",
    "### 增加一行\n",
    "cur_row += 1\n",
    "### 使用write_merge分别写入第一行的表头内容\n",
    "### 使用辅助程序按需求对单元格进行定义\n",
    "worksheet.write_merge(cur_row,cur_row+1,0,0,'日期',font_style_lrtb)\n",
    "worksheet.write_merge(cur_row,cur_row,1,24,normal_data,font_style_lrt)\n",
    "worksheet.write_merge(cur_row,cur_row,25,26,avg_data,font_style_lrt)\n",
    "worksheet.write_merge(cur_row,cur_row+1,27,27,max_data,font_style_lrtb)\n",
    "worksheet.write_merge(cur_row,cur_row+1,28,28,min_data,font_style_lrtb)\n",
    "\n",
    "## 二级表头\n",
    "### 增加一行\n",
    "cur_row += 1\n",
    "### 使用write分别写入第二行的时间表头\n",
    "### 使用辅助程序按需求对单元格进行定义\n",
    "for i in range(1,25):\n",
    "    if i in [6,12,18,24]:\n",
    "        ### left right bottom 为粗框，其余为细框\n",
    "        cur_style = font_style_lrb\n",
    "    else:\n",
    "        ### bottom 为粗框，其余为细框\n",
    "        cur_style = font_style_b\n",
    "    worksheet.write(cur_row,i,int(monthly_excel_for_write[normal_data].columns.values[i-1]),cur_style)\n",
    "### 使用write分别写入第二行的剩余表头\n",
    "### 使用辅助程序按需求对单元格进行定义\n",
    "worksheet.write(cur_row,25,'4次',font_style_lb)\n",
    "worksheet.write(cur_row,26,'24次',font_style_rb)"
   ]
  },
  {
   "cell_type": "markdown",
   "metadata": {},
   "source": [
    "# Input Index Column and Data"
   ]
  },
  {
   "cell_type": "code",
   "execution_count": 9,
   "metadata": {
    "ExecuteTime": {
     "end_time": "2020-07-27T09:53:55.522113Z",
     "start_time": "2020-07-27T09:53:55.226036Z"
    }
   },
   "outputs": [],
   "source": [
    "## 自动录入数据\n",
    "cur_row += 1\n",
    "\n",
    "## 使用便利循环录入每一个数值\n",
    "for i in range(len(monthly_excel_for_write)):\n",
    "    for j in range(len(monthly_excel_for_write.iloc[i].values)):\n",
    "        if i == len(monthly_excel_for_write)-1:  #最后一行，需要特别设置下粗框\n",
    "            if j in [0,6,12,18,24]:              #设置第0，6，12，18，24列为左右下粗框\n",
    "                cur_style = font_style_lrb\n",
    "            elif j in [26,28]:                   #设置第26，28列为左右下粗框\n",
    "                cur_style = font_style_rb\n",
    "            else:                                #其余为正常细边框\n",
    "                cur_style = font_style_b\n",
    "        else:                                    #中间行，不需要下粗框\n",
    "            if j in [0,6,12,18,24]:              #设置第0，6，12，18，24列为左右粗框\n",
    "                cur_style = font_style_lr\n",
    "            elif j in [26,28]:                   #设置第26，28列为左右下粗框\n",
    "                cur_style = font_style_r\n",
    "            else:                                #其余为正常细边框\n",
    "                cur_style = font_style_normal\n",
    "        cur_data = monthly_excel_for_write.iloc[i].values[j]      #获取data[i,j]数据\n",
    "        worksheet.write(cur_row,j,_Int_Print(cur_data),cur_style) #使用_Int_Print录入表格\n",
    "    ## 完成一行 增加一级\n",
    "    cur_row += 1\n",
    "\n",
    "for i in range(0,cur_row+1):\n",
    "    worksheet.row(i).height_mismatch = True\n",
    "    worksheet.row(i).height = 25*20         # 设置25行高 excel 1 行高 = 20 height\n",
    "worksheet.col(0).width = 256 * 14           # 设置14列宽 excel 1 列宽 = 256 width"
   ]
  },
  {
   "cell_type": "code",
   "execution_count": 10,
   "metadata": {
    "ExecuteTime": {
     "end_time": "2020-07-27T09:53:55.535810Z",
     "start_time": "2020-07-27T09:53:55.524108Z"
    }
   },
   "outputs": [],
   "source": [
    "workbook.save(r'.\\Sample Result.xls')"
   ]
  },
  {
   "cell_type": "code",
   "execution_count": null,
   "metadata": {},
   "outputs": [],
   "source": []
  },
  {
   "cell_type": "code",
   "execution_count": null,
   "metadata": {},
   "outputs": [],
   "source": []
  }
 ],
 "metadata": {
  "kernelspec": {
   "display_name": "Python 3",
   "language": "python",
   "name": "python3"
  },
  "language_info": {
   "codemirror_mode": {
    "name": "ipython",
    "version": 3
   },
   "file_extension": ".py",
   "mimetype": "text/x-python",
   "name": "python",
   "nbconvert_exporter": "python",
   "pygments_lexer": "ipython3",
   "version": "3.7.4"
  },
  "toc": {
   "base_numbering": "0",
   "nav_menu": {},
   "number_sections": true,
   "sideBar": true,
   "skip_h1_title": false,
   "title_cell": "Table of Contents",
   "title_sidebar": "Contents",
   "toc_cell": false,
   "toc_position": {
    "height": "calc(100% - 180px)",
    "left": "10px",
    "top": "150px",
    "width": "173.2px"
   },
   "toc_section_display": true,
   "toc_window_display": true
  },
  "varInspector": {
   "cols": {
    "lenName": 16,
    "lenType": 16,
    "lenVar": 40
   },
   "kernels_config": {
    "python": {
     "delete_cmd_postfix": "",
     "delete_cmd_prefix": "del ",
     "library": "var_list.py",
     "varRefreshCmd": "print(var_dic_list())"
    },
    "r": {
     "delete_cmd_postfix": ") ",
     "delete_cmd_prefix": "rm(",
     "library": "var_list.r",
     "varRefreshCmd": "cat(var_dic_list()) "
    }
   },
   "types_to_exclude": [
    "module",
    "function",
    "builtin_function_or_method",
    "instance",
    "_Feature"
   ],
   "window_display": false
  }
 },
 "nbformat": 4,
 "nbformat_minor": 2
}
